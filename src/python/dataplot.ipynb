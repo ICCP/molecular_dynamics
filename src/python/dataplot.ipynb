{
 "metadata": {
  "name": ""
 },
 "nbformat": 3,
 "nbformat_minor": 0,
 "worksheets": [
  {
   "cells": [
    {
     "cell_type": "code",
     "collapsed": false,
     "input": [
      "import matplotlib.pyplot as plt\n",
      "import numpy as np"
     ],
     "language": "python",
     "metadata": {},
     "outputs": [],
     "prompt_number": 396
    },
    {
     "cell_type": "code",
     "collapsed": false,
     "input": [
      "f = open('pos.out','r')\n"
     ],
     "language": "python",
     "metadata": {},
     "outputs": [],
     "prompt_number": 397
    },
    {
     "cell_type": "code",
     "collapsed": false,
     "input": [
      "array  = []\n",
      "particle = []\n",
      "xpos1 = []\n",
      "ypos1 = []\n",
      "zpos1 = []\n",
      "xpos2 = []\n",
      "ypos2 = []\n",
      "zpos2 = []\n",
      "time = []\n",
      "count = 0"
     ],
     "language": "python",
     "metadata": {},
     "outputs": [],
     "prompt_number": 398
    },
    {
     "cell_type": "code",
     "collapsed": false,
     "input": [
      "#parts = (line.split(',') for line in f)"
     ],
     "language": "python",
     "metadata": {},
     "outputs": [],
     "prompt_number": 399
    },
    {
     "cell_type": "code",
     "collapsed": false,
     "input": [
      "for line in f:\n",
      "    count = count + 1\n",
      "    l = line.split()\n",
      "    if count <= 1000:\n",
      "        time.append(repr(float(l[0])))\n",
      "        xpos1.append(repr(float(l[1])))\n",
      "        ypos1.append(repr(float(l[2])))\n",
      "        zpos1.append(repr(float(l[3])))\n",
      "    else:\n",
      "        xpos2.append(repr(float(l[1])))\n",
      "        ypos2.append(repr(float(l[2])))\n",
      "        zpos2.append(repr(float(l[3])))"
     ],
     "language": "python",
     "metadata": {},
     "outputs": [],
     "prompt_number": 400
    },
    {
     "cell_type": "code",
     "collapsed": false,
     "input": [],
     "language": "python",
     "metadata": {},
     "outputs": [],
     "prompt_number": 400
    },
    {
     "cell_type": "code",
     "collapsed": false,
     "input": [
      "\n",
      "plt.plot(time, zpos1, label='Particle 1')\n",
      "plt.plot(time, zpos2, label='Particle 2')\n",
      "plt.xlabel('Time')\n",
      "plt.ylabel('Position')\n",
      "plt.title(\"Position Over Time\")\n",
      "plt.legend()\n",
      "plt.show()\n",
      "\n"
     ],
     "language": "python",
     "metadata": {},
     "outputs": [],
     "prompt_number": 401
    },
    {
     "cell_type": "code",
     "collapsed": false,
     "input": [],
     "language": "python",
     "metadata": {},
     "outputs": [],
     "prompt_number": 237
    },
    {
     "cell_type": "code",
     "collapsed": false,
     "input": [
      "\n"
     ],
     "language": "python",
     "metadata": {},
     "outputs": [],
     "prompt_number": 347
    },
    {
     "cell_type": "code",
     "collapsed": false,
     "input": [],
     "language": "python",
     "metadata": {},
     "outputs": [],
     "prompt_number": 347
    },
    {
     "cell_type": "code",
     "collapsed": false,
     "input": [],
     "language": "python",
     "metadata": {},
     "outputs": [],
     "prompt_number": 347
    },
    {
     "cell_type": "code",
     "collapsed": false,
     "input": [],
     "language": "python",
     "metadata": {},
     "outputs": []
    }
   ],
   "metadata": {}
  }
 ]
}